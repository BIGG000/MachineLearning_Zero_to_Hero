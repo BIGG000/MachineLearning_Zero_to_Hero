{
 "cells": [
  {
   "cell_type": "markdown",
   "metadata": {},
   "source": [
    "# Data Visualization"
   ]
  },
  {
   "cell_type": "markdown",
   "metadata": {},
   "source": [
    "### What is Data Visualization?\n",
    "* Data visualization is the presentation of data in a pictorial or graphical format.\\\n",
    "\n",
    "### Why Data Visualization?\n",
    "* Human brain can process information easily when it is graphical or pictorial form.\n",
    "* Data visualization allows us to quickly interpret the data and adjust different variables to see their effect.\n",
    "\n",
    "### What is Matplotlib?\n",
    "* Matplotlib is a Python package used for 2D graphics. It's a comprehensive library for creating static, animated, and interactive, visualizations in python. It is easily customizable through accessing the class.\n",
    "\n",
    "### Types of Plots\n",
    "* There are many types of plotting, few of them which are commonly used are visualized below."
   ]
  },
  {
   "cell_type": "code",
   "execution_count": null,
   "metadata": {},
   "outputs": [],
   "source": []
  }
 ],
 "metadata": {
  "kernelspec": {
   "display_name": "Python 3",
   "language": "python",
   "name": "python3"
  },
  "language_info": {
   "codemirror_mode": {
    "name": "ipython",
    "version": 3
   },
   "file_extension": ".py",
   "mimetype": "text/x-python",
   "name": "python",
   "nbconvert_exporter": "python",
   "pygments_lexer": "ipython3",
   "version": "3.7.6"
  }
 },
 "nbformat": 4,
 "nbformat_minor": 4
}
