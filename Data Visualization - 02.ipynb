{
 "cells": [
  {
   "cell_type": "markdown",
   "metadata": {},
   "source": [
    "# Data Visualization"
   ]
  },
  {
   "cell_type": "markdown",
   "metadata": {},
   "source": [
    "### What is Data Visualization?\n",
    "* Data visualization is the presentation of data in a pictorial or graphical format.\\\n",
    "\n",
    "### Why Data Visualization?\n",
    "* Human brain can process information easily when it is graphical or pictorial form.\n",
    "* Data visualization allows us to quickly interpret the data and adjust different variables to see their effect.\n",
    "\n",
    "### What is Matplotlib?\n",
    "* Matplotlib is a Python package used for 2D graphics. It's a comprehensive library for creating static, animated, and interactive, visualizations in python. It is easily customizable through accessing the class.\n",
    "\n",
    "### Types of Plots\n",
    "* There are many types of plotting, few of them which are commonly used are visualized below."
   ]
  },
  {
   "cell_type": "markdown",
   "metadata": {},
   "source": [
    "### Getting Started with Matplotlib"
   ]
  },
  {
   "cell_type": "code",
   "execution_count": 2,
   "metadata": {},
   "outputs": [
    {
     "name": "stdout",
     "output_type": "stream",
     "text": [
      "Requirement already satisfied: Matplotlib in /home/bigg000/anaconda3/lib/python3.7/site-packages (3.1.3)\n",
      "Requirement already satisfied: pyparsing!=2.0.4,!=2.1.2,!=2.1.6,>=2.0.1 in /home/bigg000/anaconda3/lib/python3.7/site-packages (from Matplotlib) (2.4.6)\n",
      "Requirement already satisfied: cycler>=0.10 in /home/bigg000/anaconda3/lib/python3.7/site-packages (from Matplotlib) (0.10.0)\n",
      "Requirement already satisfied: numpy>=1.11 in /home/bigg000/anaconda3/lib/python3.7/site-packages (from Matplotlib) (1.18.1)\n",
      "Requirement already satisfied: kiwisolver>=1.0.1 in /home/bigg000/anaconda3/lib/python3.7/site-packages (from Matplotlib) (1.1.0)\n",
      "Requirement already satisfied: python-dateutil>=2.1 in /home/bigg000/anaconda3/lib/python3.7/site-packages (from Matplotlib) (2.8.1)\n",
      "Requirement already satisfied: six in /home/bigg000/anaconda3/lib/python3.7/site-packages (from cycler>=0.10->Matplotlib) (1.14.0)\n",
      "Requirement already satisfied: setuptools in /home/bigg000/anaconda3/lib/python3.7/site-packages (from kiwisolver>=1.0.1->Matplotlib) (45.2.0.post20200210)\n"
     ]
    }
   ],
   "source": [
    "#Make sure Matplotlib is installed in your pip environment.\n",
    "#Installing Matplotlib\n",
    "\n",
    "!pip install Matplotlib"
   ]
  },
  {
   "cell_type": "code",
   "execution_count": 3,
   "metadata": {},
   "outputs": [
    {
     "data": {
      "image/png": "[encoded data removed]",
      "text/plain": [
       "<Figure size 432x288 with 1 Axes>"
      ]
     },
     "metadata": {
      "needs_background": "light"
     },
     "output_type": "display_data"
    }
   ],
   "source": [
    "#Importing pylot function as alias \"plt\" from Matplotlib library\n",
    "from matplotlib import pyplot as plt\n",
    "\n",
    "#Plotting to our canvas\n",
    "plt.plot([1,2,3],[4,5,9])\n",
    "\n",
    "#Showing what we plotted\n",
    "plt.show()"
   ]
  },
  {
   "cell_type": "code",
   "execution_count": null,
   "metadata": {},
   "outputs": [],
   "source": []
  }
 ],
 "metadata": {
  "kernelspec": {
   "display_name": "Python 3",
   "language": "python",
   "name": "python3"
  },
  "language_info": {
   "codemirror_mode": {
    "name": "ipython",
    "version": 3
   },
   "file_extension": ".py",
   "mimetype": "text/x-python",
   "name": "python",
   "nbconvert_exporter": "python",
   "pygments_lexer": "ipython3",
   "version": "3.7.6"
  }
 },
 "nbformat": 4,
 "nbformat_minor": 4
}
